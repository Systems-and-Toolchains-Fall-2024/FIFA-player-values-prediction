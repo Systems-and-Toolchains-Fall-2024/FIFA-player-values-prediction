{
 "cells": [
  {
   "cell_type": "markdown",
   "id": "7e3163e6-533a-40c9-a8b4-c9253a283d62",
   "metadata": {},
   "source": [
    "# Project Option 1\n",
    "## Memmber: Rolian Tan, Micah Baldonado"
   ]
  },
  {
   "cell_type": "markdown",
   "id": "8ff2e219-ad1b-45b4-b295-b865d9721ea2",
   "metadata": {},
   "source": [
    "# Configuration"
   ]
  },
  {
   "cell_type": "code",
   "execution_count": 1,
   "id": "c77a6645-093b-46a6-be08-0a006b48b24f",
   "metadata": {},
   "outputs": [
    {
     "name": "stderr",
     "output_type": "stream",
     "text": [
      "24/10/08 16:41:21 WARN NativeCodeLoader: Unable to load native-hadoop library for your platform... using builtin-java classes where applicable\n",
      "Setting default log level to \"WARN\".\n",
      "To adjust logging level use sc.setLogLevel(newLevel). For SparkR, use setLogLevel(newLevel).\n",
      "/opt/anaconda3/envs/sys/lib/python3.8/site-packages/pyspark/sql/context.py:113: FutureWarning: Deprecated in 3.0.0. Use SparkSession.builder.getOrCreate() instead.\n",
      "  warnings.warn(\n"
     ]
    }
   ],
   "source": [
    "import pyspark\n",
    "import feedparser\n",
    "import numpy as np\n",
    "from pyspark.sql import SparkSession\n",
    "from pyspark import SparkContext, SQLContext \n",
    "from datetime import datetime, timedelta\n",
    "from pyspark.sql.functions import desc, concat, lit, avg, asc, round\n",
    "\n",
    "import findspark\n",
    "findspark.init()\n",
    "findspark.find()\n",
    "\n",
    "# Create Spark Seesion\n",
    "appName = \"project\"\n",
    "master = \"local\"\n",
    "jdbc_driver_path = \"/opt/homebrew/Cellar/apache-spark/spark-3.5.2-bin-hadoop3/jars/postgresql-42.7.4.jar\"\n",
    "# Create Configuration object for Spark. \n",
    "# Here I use ChatGPT to help me debug the conection error from spark to jdbc, it helps me add additional SET configs.\n",
    "conf = pyspark.SparkConf().set('spark.driver.host','127.0.0.1').set(\"spark.jars\", jdbc_driver_path).set(\"spark.executor.extraClassPath\", jdbc_driver_path).setAppName(appName).setMaster(master)\n",
    "# Create Spark Context with the new configurations rather than relying on the default\n",
    "sc = SparkContext.getOrCreate(conf=conf)\n",
    "# You need to create SQL Context to conduct some database operations like what we wil\n",
    "sqlContext = SQLContext(sc)\n",
    "# If you have SQL context, you create the session from the Spark Context\n",
    "spark = sqlContext.sparkSession.builder.getOrCreate()\n",
    "spark.sparkContext.setLogLevel(\"ERROR\")"
   ]
  },
  {
   "cell_type": "code",
   "execution_count": 2,
   "id": "b5aa1758-2b22-4798-a373-7ab4be565a33",
   "metadata": {},
   "outputs": [],
   "source": [
    "# Database connection configures\n",
    "database_property = {\n",
    "    \"user\" : \"postgres\",\n",
    "    \"password\" : \"\",\n",
    "    \"driver\" : \"org.postgresql.Driver\"\n",
    "}\n",
    "jdbc = \"jdbc:postgresql://localhost:5431/postgres\"\n",
    "data_folder = \"data_folder\""
   ]
  },
  {
   "cell_type": "code",
   "execution_count": 4,
   "id": "6d624b2f-8878-4be4-8a99-64090a090ac9",
   "metadata": {},
   "outputs": [],
   "source": [
    "# Check possible column mismatches\n",
    "for i in range(16, 23, 1):\n",
    "    df_tmp_1 = (spark.read.csv(f\"{data_folder}/players_{i-1}.csv\", header=True, inferSchema=True)).columns\n",
    "    df_tmp_2 = (spark.read.csv(f\"{data_folder}/players_{i}.csv\", header=True, inferSchema=True)).columns\n",
    "    if df_tmp_1 != df_tmp_2:\n",
    "        print(f\"columns in players_{i-1}.csv but not in players_{i}.csv: {[col for col in df_tmp_1 if col not in df_tmp_2]}\")\n",
    "        print(f\"columns in players_{i}.csv but not in players_{i-1}.csv: {[col for col in df_tmp_2 if col not in df_tmp_1]}\")\n",
    "\n",
    "# Female\n",
    "for i in range(17, 23, 1):\n",
    "    df_tmp_1 = (spark.read.csv(f\"{data_folder}/female_players_{i-1}.csv\", header=True, inferSchema=True)).columns\n",
    "    df_tmp_2 = (spark.read.csv(f\"{data_folder}/female_players_{i}.csv\", header=True, inferSchema=True)).columns\n",
    "    if df_tmp_1 != df_tmp_2:\n",
    "        print(f\"columns in female_players_{i-1}.csv but not in female_players_{i}.csv: {[col for col in df_tmp_1 if col not in df_tmp_2]}\")\n",
    "        print(f\"columns in female_players_{i}.csv but not in female_players_{i-1}.csv: {[col for col in df_tmp_2 if col not in df_tmp_1]}\")"
   ]
  },
  {
   "cell_type": "markdown",
   "id": "844f2206-a7af-4afe-ad8c-d60b8bac8510",
   "metadata": {},
   "source": [
    "# Task01: Load and process Data"
   ]
  },
  {
   "cell_type": "code",
   "execution_count": 5,
   "id": "80e27dc5-7b51-41f0-b403-3b3551a8740a",
   "metadata": {},
   "outputs": [],
   "source": [
    "df_total = spark.read.csv(f\"{data_folder}/players_15.csv\", header=True, inferSchema=True)\n",
    "df_total = df_total.withColumn(\"year\", lit(2015))\n",
    "df_total = df_total.withColumn(\"gender\", lit(\"male\"))\n",
    "# Male\n",
    "for i in range(16, 23):\n",
    "    df_tmp = spark.read.csv(f\"{data_folder}/players_{i}.csv\", header=True, inferSchema=True)\n",
    "    df_tmp = df_tmp.withColumn(\"year\", lit(2000+i))\n",
    "    df_tmp = df_tmp.withColumn(\"gender\", lit(\"male\"))\n",
    "    df_total = df_total.union(df_tmp)\n",
    "\n",
    "# Female\n",
    "for i in range(16, 23):\n",
    "    df_tmp = spark.read.csv(f\"{data_folder}/female_players_{i}.csv\", header=True, inferSchema=True)\n",
    "    df_tmp = df_tmp.withColumn(\"year\", lit(2000+i))\n",
    "    df_tmp = df_tmp.withColumn(\"gender\", lit(\"female\"))\n",
    "    df_total = df_total.union(df_tmp)"
   ]
  },
  {
   "cell_type": "markdown",
   "id": "0a2e6e41-8dd0-4a1b-9945-d1779233f390",
   "metadata": {},
   "source": [
    "#### Unique ID"
   ]
  },
  {
   "cell_type": "code",
   "execution_count": 6,
   "id": "5644ccab-0e59-47ff-88ff-7d84b7f555c4",
   "metadata": {},
   "outputs": [],
   "source": [
    "df_total = df_total.withColumn(\"id\", concat(df_total[\"sofifa_id\"], lit(\"_\"), df_total[\"year\"]))\n",
    "column_order = [\"id\"] + [col for col in df_total.columns if col != \"id\"]\n",
    "df_total = df_total.select(column_order)"
   ]
  },
  {
   "cell_type": "markdown",
   "id": "8d8537cf-f27b-44b0-a7dc-84f557e8e433",
   "metadata": {},
   "source": [
    "#### Datatype Casting"
   ]
  },
  {
   "cell_type": "code",
   "execution_count": 7,
   "id": "edcb5f5d-75e1-4460-b50f-550bd0b3c8a8",
   "metadata": {},
   "outputs": [],
   "source": [
    "df_total = (df_total.withColumn(\"value_eur\", df_total[\"value_eur\"].cast(\"double\"))\n",
    "                    .withColumn(\"wage_eur\", df_total[\"wage_eur\"].cast(\"double\"))\n",
    "                    .withColumn(\"club_team_id\", df_total[\"club_team_id\"].cast(\"integer\"))\n",
    "                    .withColumn(\"club_jersey_number\", df_total[\"club_jersey_number\"].cast(\"integer\"))\n",
    "                    .withColumn(\"club_contract_valid_until\", df_total[\"club_contract_valid_until\"].cast(\"integer\"))\n",
    "                    .withColumn(\"club_joined\", df_total[\"club_joined\"].cast(\"date\"))           \n",
    "           )"
   ]
  },
  {
   "cell_type": "code",
   "execution_count": 8,
   "id": "4c529bc4-194d-4f8e-9c7c-a0501c3ccf49",
   "metadata": {},
   "outputs": [
    {
     "name": "stderr",
     "output_type": "stream",
     "text": [
      "                                                                                \r"
     ]
    }
   ],
   "source": [
    "table_name = \"fifa.playerdata\"\n",
    "mode = \"overwrite\"\n",
    "df_total.write.jdbc(url=jdbc, table=table_name, mode=mode, properties=database_property)"
   ]
  },
  {
   "cell_type": "code",
   "execution_count": 9,
   "id": "0093df27-3c72-4bb9-909e-81d463f075c9",
   "metadata": {},
   "outputs": [],
   "source": [
    "# feature summay\n",
    "# df_total.describe().show(vertical=True)"
   ]
  },
  {
   "cell_type": "code",
   "execution_count": 10,
   "id": "fdb5cb0c-f6ef-4de9-b061-ce65cff37852",
   "metadata": {},
   "outputs": [],
   "source": [
    "# df_total.printSchema()"
   ]
  },
  {
   "cell_type": "code",
   "execution_count": 11,
   "id": "5b3dde85-2c0e-415b-8963-905c87b76f12",
   "metadata": {},
   "outputs": [],
   "source": [
    "# df_total.columns"
   ]
  },
  {
   "cell_type": "code",
   "execution_count": 12,
   "id": "94768110-b592-4d1b-b524-be988fff9b5b",
   "metadata": {},
   "outputs": [],
   "source": [
    "# df_total.show(1, vertical=True)"
   ]
  },
  {
   "cell_type": "markdown",
   "id": "5e7d4ad1-5e88-4099-ba1e-09aa5632a3ec",
   "metadata": {},
   "source": [
    "# Task 02"
   ]
  },
  {
   "cell_type": "code",
   "execution_count": 13,
   "id": "af2e29a5-a9e4-4168-9020-f5d1092aedcf",
   "metadata": {},
   "outputs": [],
   "source": [
    "# Load and Analyze male information\n",
    "table_name = \"fifa.playerdata\"\n",
    "df = spark.read.jdbc(url=jdbc, table=table_name, properties=database_property)\n",
    "df_total = df.filter(df[\"gender\"] == \"male\")"
   ]
  },
  {
   "cell_type": "markdown",
   "id": "fe82b077-1d95-48c3-8246-66210ded41ca",
   "metadata": {},
   "source": [
    "### Q1"
   ]
  },
  {
   "cell_type": "code",
   "execution_count": 14,
   "id": "09b9fb42-2540-485d-93af-d3d91e50c11a",
   "metadata": {},
   "outputs": [],
   "source": [
    "def club_contracts_players(df_total, X, Z, Y):\n",
    "    filtered_df = df_total.filter(df_total[\"year\"] == X)\n",
    "    filtered_df = filtered_df.filter(df_total[\"club_contract_valid_until\"] >= Z)\n",
    "    counts_df = filtered_df.groupBy(\"club_name\").count().sort(desc(\"count\")).limit(Y)\n",
    "    counts_df.show()"
   ]
  },
  {
   "cell_type": "code",
   "execution_count": 15,
   "id": "fab5a8b8-aa93-4b15-81f4-00664023d367",
   "metadata": {},
   "outputs": [
    {
     "name": "stdout",
     "output_type": "stream",
     "text": [
      "+-----------------+-----+\n",
      "|        club_name|count|\n",
      "+-----------------+-----+\n",
      "|     Al Qadisiyah|   20|\n",
      "|      Envigado FC|   18|\n",
      "|Crucero del Norte|   16|\n",
      "|  Boyacá Chicó FC|   15|\n",
      "+-----------------+-----+\n",
      "\n"
     ]
    }
   ],
   "source": [
    "club_contracts_players(df_total, 2016, 2021, 4)"
   ]
  },
  {
   "cell_type": "markdown",
   "id": "9e1fb4ee-2617-40a4-86b3-bc6dfefe5ede",
   "metadata": {},
   "source": [
    "### Q2"
   ]
  },
  {
   "cell_type": "code",
   "execution_count": 16,
   "id": "58290521-ddca-4dc0-8927-71c731aa371b",
   "metadata": {},
   "outputs": [],
   "source": [
    "def average_age(df, X, Y, mode):\n",
    "    if (X <= 0):\n",
    "        raise ValueError(f\"X should be possitive, but get: X = {X}\")\n",
    "    avg_age_df = df.filter(df[\"year\"] == Y).groupBy(\"club_name\").agg(round(avg(\"age\"), 2).alias(\"avg_age\")) # round to 2 decimal\n",
    "    if mode == \"highest\":\n",
    "        avg_age_df = avg_age_df.sort(desc(\"avg_age\"))\n",
    "    elif mode == \"lowest\":\n",
    "        avg_age_df = avg_age_df.sort(asc(\"avg_age\"))\n",
    "    else:\n",
    "        raise ValueError(f\"Mode should be highest or lowest, but get: {mode}\")\n",
    "\n",
    "    # Check the value of the Xth largest club to make sure output all the valid clubs\n",
    "    last_val = avg_age_df.collect()[X-1][\"avg_age\"]\n",
    "    if mode == \"highest\":\n",
    "        counts_df = avg_age_df.filter(avg_age_df[\"avg_age\"] >= last_val)\n",
    "    else:\n",
    "        counts_df = avg_age_df.filter(avg_age_df[\"avg_age\"] <= last_val)\n",
    "    counts_df.show()"
   ]
  },
  {
   "cell_type": "code",
   "execution_count": 17,
   "id": "7cad9d49-daf9-411b-8f1f-d03e54a5a12d",
   "metadata": {},
   "outputs": [
    {
     "name": "stdout",
     "output_type": "stream",
     "text": [
      "+--------------------+-------+\n",
      "|           club_name|avg_age|\n",
      "+--------------------+-------+\n",
      "|         Guaireña FC|  30.25|\n",
      "|    12 de Octubre FC|  30.05|\n",
      "| Shanghai Shenhua FC|  29.89|\n",
      "|Demir Grup Sivasspor|  29.33|\n",
      "+--------------------+-------+\n",
      "\n"
     ]
    }
   ],
   "source": [
    "average_age(df_total, 4, 2022, \"highest\")"
   ]
  },
  {
   "cell_type": "code",
   "execution_count": 18,
   "id": "4929a10b-24d7-4842-b6ae-fed7d0d5ccf1",
   "metadata": {},
   "outputs": [
    {
     "name": "stdout",
     "output_type": "stream",
     "text": [
      "+--------------------+-------+\n",
      "|           club_name|avg_age|\n",
      "+--------------------+-------+\n",
      "|     FC Nordsjælland|  20.12|\n",
      "|      SC Freiburg II|  20.86|\n",
      "|     Real Sociedad B|  21.16|\n",
      "|Borussia Dortmund II|  21.46|\n",
      "+--------------------+-------+\n",
      "\n"
     ]
    }
   ],
   "source": [
    "average_age(df_total, 4, 2022, \"lowest\")"
   ]
  },
  {
   "cell_type": "markdown",
   "id": "b5f7e970-cbeb-44f8-acd5-f2b629112c2e",
   "metadata": {},
   "source": [
    "### Q3"
   ]
  },
  {
   "cell_type": "code",
   "execution_count": 19,
   "id": "df0da877-eb81-457c-b7d4-94381d873121",
   "metadata": {},
   "outputs": [],
   "source": [
    "def mostPopularNationality(df_total):\n",
    "    for year in range(2015, 2023):\n",
    "        df_year = df_total.filter(df_total[\"year\"] == year).groupBy(\"nationality_name\").count().sort(desc(\"count\")).limit(1)\n",
    "        print(f\"Most popular nationality in the year {year}:\", df_year.collect()[0][0])"
   ]
  },
  {
   "cell_type": "code",
   "execution_count": 20,
   "id": "e721e665-f3c0-4dfd-aae2-8c43d8522847",
   "metadata": {},
   "outputs": [
    {
     "name": "stdout",
     "output_type": "stream",
     "text": [
      "Most popular nationality in the year 2015: England\n",
      "Most popular nationality in the year 2016: England\n",
      "Most popular nationality in the year 2017: England\n",
      "Most popular nationality in the year 2018: England\n",
      "Most popular nationality in the year 2019: England\n",
      "Most popular nationality in the year 2020: England\n",
      "Most popular nationality in the year 2021: England\n",
      "Most popular nationality in the year 2022: England\n"
     ]
    }
   ],
   "source": [
    "mostPopularNationality(df_total)"
   ]
  }
 ],
 "metadata": {
  "kernelspec": {
   "display_name": "sys",
   "language": "python",
   "name": "sys"
  },
  "language_info": {
   "codemirror_mode": {
    "name": "ipython",
    "version": 3
   },
   "file_extension": ".py",
   "mimetype": "text/x-python",
   "name": "python",
   "nbconvert_exporter": "python",
   "pygments_lexer": "ipython3",
   "version": "3.8.18"
  }
 },
 "nbformat": 4,
 "nbformat_minor": 5
}
